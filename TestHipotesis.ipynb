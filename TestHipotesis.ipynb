{
  "nbformat": 4,
  "nbformat_minor": 0,
  "metadata": {
    "colab": {
      "provenance": [],
      "authorship_tag": "ABX9TyPyPqLcSNFabwlN39gVzvOK",
      "include_colab_link": true
    },
    "kernelspec": {
      "name": "python3",
      "display_name": "Python 3"
    },
    "language_info": {
      "name": "python"
    }
  },
  "cells": [
    {
      "cell_type": "markdown",
      "metadata": {
        "id": "view-in-github",
        "colab_type": "text"
      },
      "source": [
        "<a href=\"https://colab.research.google.com/github/borisValdez/Simulation/blob/main/TestHipotesis.ipynb\" target=\"_parent\"><img src=\"https://colab.research.google.com/assets/colab-badge.svg\" alt=\"Open In Colab\"/></a>"
      ]
    },
    {
      "cell_type": "code",
      "execution_count": null,
      "metadata": {
        "colab": {
          "base_uri": "https://localhost:8080/"
        },
        "id": "8v-GgMBA7FKb",
        "outputId": "aa80b914-b70b-4992-d180-04d231d24eb8"
      },
      "outputs": [
        {
          "output_type": "stream",
          "name": "stdout",
          "text": [
            "Media de producción: 13.60\n",
            "Desviación estándar de la producción: 0.44\n",
            "Tamaño de muestra necesario: 3.01\n",
            "<function simular_produccion_inyectora at 0x799fb31ff400>\n"
          ]
        }
      ],
      "source": [
        "import numpy as np\n",
        "import scipy.stats as stats\n",
        "\n",
        "segundos_en_8_horas = 8 * 3600\n",
        "num_simulaciones = 10000\n",
        "\n",
        "def simular_produccion_inyectora(num_sim):\n",
        "    produccion_inyectora = segundos_en_8_horas / np.random.uniform(2000, 2240, num_sim)\n",
        "    return produccion_inyectora\n",
        "\n",
        "produccion_total_inyectora = simular_produccion_inyectora(num_simulaciones)\n",
        "\n",
        "media_produccion_inyectora = np.mean(produccion_total_inyectora)\n",
        "desviacion_estandar_inyectora = np.std(produccion_total_inyectora)\n",
        "\n",
        "Z = stats.norm.ppf(0.975)  # Valor crítico para un intervalo de confianza del 95%\n",
        "E = 0.5  # Margen de error deseado\n",
        "n_inyectora = (Z * desviacion_estandar_inyectora / E) ** 2\n",
        "\n",
        "print(f\"Media de producción: {media_produccion_inyectora:.2f}\")\n",
        "print(f\"Desviación estándar de la producción: {desviacion_estandar_inyectora:.2f}\")\n",
        "print(f\"Tamaño de muestra necesario: {n_inyectora:.2f}\")\n",
        "print(simular_produccion_inyectora)"
      ]
    }
  ]
}